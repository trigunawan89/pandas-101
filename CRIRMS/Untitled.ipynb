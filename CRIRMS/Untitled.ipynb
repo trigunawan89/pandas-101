{
 "cells": [
  {
   "cell_type": "code",
   "execution_count": 4,
   "metadata": {},
   "outputs": [],
   "source": [
    "LIKELIHOOD_D = {\n",
    "    1:['Rare (< 5%)',0.10],\n",
    "    2:['Unlikely (5% - 29%)',0.30],\n",
    "    3:['Possible (30% - 59%)',0.50],\n",
    "    4:['Likely (60% - 89%)',0.70],\n",
    "    4:['Almost Certain (≥ 90%)',0.90]\n",
    "}\n"
   ]
  },
  {
   "cell_type": "code",
   "execution_count": 5,
   "metadata": {},
   "outputs": [
    {
     "data": {
      "text/plain": [
       "{1: ['Rare (< 5%)'],\n",
       " 2: ['Unlikely (5% - 29%)'],\n",
       " 3: ['Possible (30% - 59%)'],\n",
       " 4: ['Almost Certain (≥ 90%)']}"
      ]
     },
     "execution_count": 5,
     "metadata": {},
     "output_type": "execute_result"
    }
   ],
   "source": [
    "LIKELIHOOD_D"
   ]
  },
  {
   "cell_type": "code",
   "execution_count": 10,
   "metadata": {},
   "outputs": [
    {
     "name": "stdout",
     "output_type": "stream",
     "text": [
      "1\n"
     ]
    }
   ],
   "source": [
    "for key, value in LIKELIHOOD_D.items():\n",
    "    if value[0] == 'Rare (< 5%)':\n",
    "        print(key)"
   ]
  },
  {
   "cell_type": "code",
   "execution_count": 12,
   "metadata": {},
   "outputs": [],
   "source": [
    "CONSEQUENCES_RATING_D = {\n",
    "    1:[1,0.05],\n",
    "    2:[2,0.10],\n",
    "    3:[3,0.20],\n",
    "    4:[4,0.40],\n",
    "    5:[5,0.90]\n",
    "}\n"
   ]
  },
  {
   "cell_type": "code",
   "execution_count": null,
   "metadata": {},
   "outputs": [],
   "source": [
    "0.05\n",
    "0.10\n",
    "0.20\n",
    "0.40\n",
    "0.90\n"
   ]
  },
  {
   "cell_type": "code",
   "execution_count": 15,
   "metadata": {},
   "outputs": [],
   "source": [
    "EXPOSURE_MAP_D = {\n",
    "0.005:['(1) Low',1,],\n",
    "0.015:['(2) Low',1,],\n",
    "0.010:['(3) Low',2,],\n",
    "0.030:['(4) Low',2,],\n",
    "0.025:['(5) Low',1,],\n",
    "0.035:['(6) Moderate',1,],\n",
    "0.050:['(7) Moderate',2,],\n",
    "0.070:['(8) Moderate',2,],\n",
    "0.020:['(9) Moderate',3,],\n",
    "0.060:['(10) Moderate',3,],\n",
    "0.040:['(11) Moderate',4,],\n",
    "0.045:['(12) Moderate',1,],\n",
    "0.090:['(13) High',2,],\n",
    "0.100:['(14) High',3,],\n",
    "0.120:['(15) High',4,],\n",
    "0.200:['(16) High',4,],\n",
    "0.140:['(17) High',3,],\n",
    "0.090:['(18) High',5,],\n",
    "0.270:['(19) Very High',5,],\n",
    "0.180:['(20) Very High',3,],\n",
    "0.280:['(21) Very High',4,],\n",
    "0.450:['(22) Very High',5,],\n",
    "0.360:['(23) Very High',4,],\n",
    "0.630:['(24) Very High',5,],\n",
    "0.810:['(25) Extreme',5,]\n",
    "       }"
   ]
  },
  {
   "cell_type": "code",
   "execution_count": 16,
   "metadata": {},
   "outputs": [],
   "source": [
    "\n",
    "CONSEQUENCES_RATING_D = {\n",
    "    1:[1,0.05],\n",
    "    2:[2,0.10],\n",
    "    3:[3,0.20],\n",
    "    4:[4,0.40],\n",
    "    5:[5,0.90]\n",
    "}\n"
   ]
  },
  {
   "cell_type": "code",
   "execution_count": 27,
   "metadata": {},
   "outputs": [],
   "source": [
    "for key, value in CONSEQUENCES_RATING_D.items(): \n",
    "    if key == 4 :\n",
    "        a = value[0]\n",
    "        b = value[1]"
   ]
  },
  {
   "cell_type": "code",
   "execution_count": 26,
   "metadata": {},
   "outputs": [
    {
     "data": {
      "text/plain": [
       "(4, 0.4)"
      ]
     },
     "execution_count": 26,
     "metadata": {},
     "output_type": "execute_result"
    }
   ],
   "source": [
    "a,b"
   ]
  },
  {
   "cell_type": "code",
   "execution_count": null,
   "metadata": {},
   "outputs": [],
   "source": []
  }
 ],
 "metadata": {
  "kernelspec": {
   "display_name": "Python 3",
   "language": "python",
   "name": "python3"
  },
  "language_info": {
   "codemirror_mode": {
    "name": "ipython",
    "version": 3
   },
   "file_extension": ".py",
   "mimetype": "text/x-python",
   "name": "python",
   "nbconvert_exporter": "python",
   "pygments_lexer": "ipython3",
   "version": "3.7.7"
  }
 },
 "nbformat": 4,
 "nbformat_minor": 4
}
